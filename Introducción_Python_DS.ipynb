{
  "nbformat": 4,
  "nbformat_minor": 0,
  "metadata": {
    "colab": {
      "provenance": [],
      "authorship_tag": "ABX9TyMvOXN/yfHwi8LQMyeWRgm2",
      "include_colab_link": true
    },
    "kernelspec": {
      "name": "python3",
      "display_name": "Python 3"
    },
    "language_info": {
      "name": "python"
    }
  },
  "cells": [
    {
      "cell_type": "markdown",
      "metadata": {
        "id": "view-in-github",
        "colab_type": "text"
      },
      "source": [
        "<a href=\"https://colab.research.google.com/github/jumacaq/bootcamp_data_science_alura/blob/main/Introducci%C3%B3n_Python_DS.ipynb\" target=\"_parent\"><img src=\"https://colab.research.google.com/assets/colab-badge.svg\" alt=\"Open In Colab\"/></a>"
      ]
    },
    {
      "cell_type": "markdown",
      "source": [
        "#**Introducción a Python**"
      ],
      "metadata": {
        "id": "ie_ZAuw8nSiB"
      }
    },
    {
      "cell_type": "code",
      "source": [
        "1 + 1"
      ],
      "metadata": {
        "colab": {
          "base_uri": "https://localhost:8080/"
        },
        "id": "nqlZTlqLnpvX",
        "outputId": "8785ea6c-1687-493e-d621-8f5e1dc7315b"
      },
      "execution_count": 1,
      "outputs": [
        {
          "output_type": "execute_result",
          "data": {
            "text/plain": [
              "2"
            ]
          },
          "metadata": {},
          "execution_count": 1
        }
      ]
    },
    {
      "cell_type": "code",
      "source": [
        "'Juan Martín'"
      ],
      "metadata": {
        "colab": {
          "base_uri": "https://localhost:8080/",
          "height": 35
        },
        "id": "ffFSH3Jqnywl",
        "outputId": "66fb90a7-5438-4b8d-eb92-14f80bd5f83b"
      },
      "execution_count": 2,
      "outputs": [
        {
          "output_type": "execute_result",
          "data": {
            "text/plain": [
              "'Juan Martín'"
            ],
            "application/vnd.google.colaboratory.intrinsic+json": {
              "type": "string"
            }
          },
          "metadata": {},
          "execution_count": 2
        }
      ]
    },
    {
      "cell_type": "code",
      "source": [
        "nombre = 'Juan'"
      ],
      "metadata": {
        "id": "JzqfaL4dn-8J"
      },
      "execution_count": 3,
      "outputs": []
    },
    {
      "cell_type": "code",
      "source": [
        "edad = 51"
      ],
      "metadata": {
        "id": "sUqbvurwoIL0"
      },
      "execution_count": 4,
      "outputs": []
    },
    {
      "cell_type": "code",
      "source": [
        "edad"
      ],
      "metadata": {
        "colab": {
          "base_uri": "https://localhost:8080/"
        },
        "id": "-5IAgYIioNcK",
        "outputId": "1265956f-0698-4d94-a109-892fdefdac83"
      },
      "execution_count": 5,
      "outputs": [
        {
          "output_type": "execute_result",
          "data": {
            "text/plain": [
              "51"
            ]
          },
          "metadata": {},
          "execution_count": 5
        }
      ]
    },
    {
      "cell_type": "markdown",
      "source": [
        "## Mi primera función\n"
      ],
      "metadata": {
        "id": "46xP5rBuofsc"
      }
    },
    {
      "cell_type": "code",
      "source": [
        "def salute():\n",
        "  print(f'mi nombre es {nombre} y mi edad es {edad}')"
      ],
      "metadata": {
        "id": "iPFo7N9vooDM"
      },
      "execution_count": 6,
      "outputs": []
    },
    {
      "cell_type": "code",
      "source": [
        "salute()"
      ],
      "metadata": {
        "colab": {
          "base_uri": "https://localhost:8080/"
        },
        "id": "1EeoDzWGpS-X",
        "outputId": "3263cebd-40bc-4527-a83a-b27600939ec7"
      },
      "execution_count": 7,
      "outputs": [
        {
          "output_type": "stream",
          "name": "stdout",
          "text": [
            "mi nombre es Juan y mi edad es 51\n"
          ]
        }
      ]
    },
    {
      "cell_type": "code",
      "source": [
        "def parabens():\n",
        "  name = input('Cual es su nombre?  ')\n",
        "  print(f'Sea Usted bienvenido {name}¡¡¡')"
      ],
      "metadata": {
        "id": "uQlbuJEnpWst"
      },
      "execution_count": 8,
      "outputs": []
    },
    {
      "cell_type": "code",
      "source": [
        "parabens()"
      ],
      "metadata": {
        "colab": {
          "base_uri": "https://localhost:8080/"
        },
        "id": "h-kt558MqHKB",
        "outputId": "acf943fa-820c-4864-e983-49b529abcfd3"
      },
      "execution_count": 9,
      "outputs": [
        {
          "output_type": "stream",
          "name": "stdout",
          "text": [
            "Cual es su nombre?  Juan Martín\n",
            "Sea Usted bienvenido Juan Martín¡¡¡\n"
          ]
        }
      ]
    },
    {
      "cell_type": "code",
      "source": [
        "# Ejercicio\n",
        "def nombre_completo():\n",
        "  nombre = input('Cual es tu nombre?  ')\n",
        "  apellido = input('Cual es tu apellido?  ')\n",
        "  nombre_completo = nombre + ' ' + apellido\n",
        "  print(f'Tu nombre completo es {nombre_completo}')"
      ],
      "metadata": {
        "id": "lZew4_8Vq_Lh"
      },
      "execution_count": 10,
      "outputs": []
    },
    {
      "cell_type": "code",
      "source": [
        "nombre_completo()"
      ],
      "metadata": {
        "colab": {
          "base_uri": "https://localhost:8080/"
        },
        "id": "YnAyoaoQs7cA",
        "outputId": "031dcb77-0e52-4e49-ee89-2486b5d2794b"
      },
      "execution_count": 11,
      "outputs": [
        {
          "output_type": "stream",
          "name": "stdout",
          "text": [
            "Cual es tu nombre?  Adrian\n",
            "Cual es tu apellido?  Campos\n",
            "Tu nombre completo es Adrian Campos\n"
          ]
        }
      ]
    },
    {
      "cell_type": "markdown",
      "source": [
        "## Parámetros\n"
      ],
      "metadata": {
        "id": "av0htq9C3iRj"
      }
    },
    {
      "cell_type": "code",
      "source": [
        "name = 'Martín'\n",
        "def salute_with_parameters(name):\n",
        "  print(f'Seas bienvenido {name}')\n"
      ],
      "metadata": {
        "id": "e4Ja_LUKtAl1"
      },
      "execution_count": 12,
      "outputs": []
    },
    {
      "cell_type": "code",
      "source": [
        "salute_with_parameters(name)"
      ],
      "metadata": {
        "colab": {
          "base_uri": "https://localhost:8080/"
        },
        "id": "qRMNOcoV3pXk",
        "outputId": "3bd1c6b3-ffb4-45aa-9456-8a24d36e0f99"
      },
      "execution_count": 13,
      "outputs": [
        {
          "output_type": "stream",
          "name": "stdout",
          "text": [
            "Seas bienvenido Martín\n"
          ]
        }
      ]
    },
    {
      "cell_type": "code",
      "source": [
        "# Ejercicio 1\n",
        "def velocidad(espacio,tiempo):\n",
        "  v = espacio/tiempo\n",
        "  print(f'Su velocidad es {v} m/s')"
      ],
      "metadata": {
        "id": "lfOKGiOp45vo"
      },
      "execution_count": 14,
      "outputs": []
    },
    {
      "cell_type": "code",
      "source": [
        "velocidad(500,10)"
      ],
      "metadata": {
        "colab": {
          "base_uri": "https://localhost:8080/"
        },
        "id": "Gvp2yW-k68uo",
        "outputId": "02245fa8-f498-419c-b49b-9fdca1809ad3"
      },
      "execution_count": 15,
      "outputs": [
        {
          "output_type": "stream",
          "name": "stdout",
          "text": [
            "Su velocidad es 50.0 m/s\n"
          ]
        }
      ]
    },
    {
      "cell_type": "markdown",
      "source": [
        "## Condicionales"
      ],
      "metadata": {
        "id": "pc7p4Qqc84MY"
      }
    },
    {
      "cell_type": "code",
      "source": [
        "def verificar_si_puedes_conducir(edad):\n",
        "  if edad >= 18:\n",
        "    print('Usted tiene edad para conducir')\n",
        "  else:\n",
        "    print('Usted NO tiene edad para conducir')\n"
      ],
      "metadata": {
        "id": "T4Hh9oNp7TXj"
      },
      "execution_count": 28,
      "outputs": []
    },
    {
      "cell_type": "code",
      "source": [
        "verificar_si_puedes_conducir(25)"
      ],
      "metadata": {
        "colab": {
          "base_uri": "https://localhost:8080/"
        },
        "id": "bXGcK5mF98-7",
        "outputId": "f3cb2868-37cb-4685-bdb7-786de4dc0455"
      },
      "execution_count": 29,
      "outputs": [
        {
          "output_type": "stream",
          "name": "stdout",
          "text": [
            "Usted tiene edad para conducir\n"
          ]
        }
      ]
    },
    {
      "cell_type": "code",
      "source": [
        "verificar_si_puedes_conducir(11)"
      ],
      "metadata": {
        "colab": {
          "base_uri": "https://localhost:8080/"
        },
        "id": "saUVQ3GC-CrV",
        "outputId": "a5eb6a2f-74eb-4620-a42c-9223539cb071"
      },
      "execution_count": 30,
      "outputs": [
        {
          "output_type": "stream",
          "name": "stdout",
          "text": [
            "Usted NO tiene edad para conducir\n"
          ]
        }
      ]
    },
    {
      "cell_type": "markdown",
      "source": [
        "## Condicionales sin parámetro y conversión de tipo de dato\n",
        "\n"
      ],
      "metadata": {
        "id": "QMsiDWElAvR6"
      }
    },
    {
      "cell_type": "code",
      "source": [
        "def permiso_conducir_sin_parámetro():\n",
        "  edad = int(input('Cual es su edad? '))\n",
        "  if edad >= 18:\n",
        "    print('Usted tiene edad para conducir')\n",
        "  else:\n",
        "    print('Usted NO tiene edad para conducir')\n"
      ],
      "metadata": {
        "id": "bwCcF2E3-Jx0"
      },
      "execution_count": 24,
      "outputs": []
    },
    {
      "cell_type": "code",
      "source": [
        "permiso_conducir_sin_parámetro()"
      ],
      "metadata": {
        "colab": {
          "base_uri": "https://localhost:8080/"
        },
        "id": "g5LNA0FFBmCg",
        "outputId": "37e0c0da-5944-44df-c294-ec36eca2f9a0"
      },
      "execution_count": 25,
      "outputs": [
        {
          "output_type": "stream",
          "name": "stdout",
          "text": [
            "Cual es su edad? 15\n",
            "Usted NO tiene edad para conducir\n"
          ]
        }
      ]
    },
    {
      "cell_type": "code",
      "source": [],
      "metadata": {
        "id": "aZ8NNT-2BqjZ"
      },
      "execution_count": 20,
      "outputs": []
    }
  ]
}